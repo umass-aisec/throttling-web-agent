{
 "cells": [
  {
   "cell_type": "code",
   "execution_count": null,
   "id": "50ada1b6",
   "metadata": {},
   "outputs": [],
   "source": [
    "import pandas as pd\n",
    "import requests\n",
    "from bs4 import BeautifulSoup\n",
    "import openai\n",
    "from typing import List, Dict\n",
    "import heapq\n",
    "import math\n",
    "from openai import OpenAI\n",
    "from tqdm import tqdm\n",
    "import random\n",
    "import json\n",
    "import re\n",
    "from tenacity import (\n",
    "    retry,\n",
    "    stop_after_attempt,\n",
    "    wait_exponential,\n",
    ")  \n",
    "import pickle\n",
    "import glob\n",
    "import sys\n",
    "#sys.path.append('cleaned_version_usenix')\n",
    "import os\n",
    "from pathlib import Path\n",
    "\n",
    "import utils  # loads cleaned_version_usenix/some_module.py\n",
    "import prompts\n",
    "import offline_generation"
   ]
  },
  {
   "cell_type": "code",
   "execution_count": null,
   "id": "26852489",
   "metadata": {},
   "outputs": [],
   "source": [
    "my_file = open(\"words.txt\", \"r\")\n",
    "data = my_file.read() \n",
    "data_into_list = data.replace('\\n', ' ').split(\" \")\n",
    "my_file.close() \n",
    "sorted_words = sorted(data_into_list, key=len)\n",
    "sorted_list_five_letters = sorted_words[9770:]\n",
    "six_less_words = [word for word in sorted_list_five_letters if len(word) <= 6]\n",
    "six_more_words = [word for word in sorted_list_five_letters if len(word) > 6]\n"
   ]
  },
  {
   "cell_type": "code",
   "execution_count": null,
   "id": "85fded51",
   "metadata": {},
   "outputs": [],
   "source": [
    "with open(\"domains.pkl\", 'rb') as file:\n",
    "    domains = pickle.load(file)"
   ]
  },
  {
   "cell_type": "code",
   "execution_count": null,
   "id": "e35fd0a2",
   "metadata": {},
   "outputs": [],
   "source": [
    "new_verifier_system_prompt = prompts.construct_system_prompt(\"ICL-examples\")"
   ]
  },
  {
   "cell_type": "code",
   "execution_count": null,
   "id": "6ddebe9e",
   "metadata": {},
   "outputs": [],
   "source": [
    "bank = offline_generation.generate_bank(domains, sorted_list_five_letters, new_verifier_system_prompt, 6, 1, \"gemini-2.5-flash\", model_provider=\"Google\", thinking_budget=100)"
   ]
  },
  {
   "cell_type": "code",
   "execution_count": null,
   "id": "768b3a5b",
   "metadata": {},
   "outputs": [],
   "source": []
  }
 ],
 "metadata": {
  "language_info": {
   "name": "python"
  }
 },
 "nbformat": 4,
 "nbformat_minor": 5
}
